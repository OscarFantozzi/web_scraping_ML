{
 "cells": [
  {
   "cell_type": "code",
   "execution_count": 17,
   "id": "755bd1ae",
   "metadata": {
    "ExecuteTime": {
     "end_time": "2024-01-22T19:27:44.319775Z",
     "start_time": "2024-01-22T19:27:44.296836Z"
    }
   },
   "outputs": [],
   "source": [
    "import pandas as pd\n",
    "from selenium                          import webdriver\n",
    "from webdriver_manager.chrome                import ChromeDriverManager\n",
    "from selenium.webdriver.chrome.service import Service\n",
    "from selenium.webdriver.common.by      import By\n",
    "\n",
    "\n",
    "class Driver:\n",
    "    def __init__(self): \n",
    "        self.service = Service(ChromeDriverManager().install())\n",
    "        \n",
    "    def get_prices(lista):\n",
    "        valores = []\n",
    "\n",
    "        preco = 'na'\n",
    "\n",
    "        preco_real = 'na'\n",
    "\n",
    "        for item in lista:\n",
    "\n",
    "            if item.startswith('R$'):\n",
    "\n",
    "                valores.append(item)\n",
    "\n",
    "                if len(valores) == 2:\n",
    "\n",
    "                    preco = valores[0]\n",
    "\n",
    "                    preco_real = valores[1]\n",
    "\n",
    "                elif len(valores) == 1:\n",
    "\n",
    "                    preco = valores[0]\n",
    "\n",
    "                    preco_real = preco\n",
    "\n",
    "        return preco, preco_real\n",
    "\n",
    "    def webscraping_magalu(n_pages):\n",
    "\n",
    "        df_final = pd.DataFrame()\n",
    "\n",
    "        lista = []\n",
    "\n",
    "        service = Service(ChromeDriverManager().install())\n",
    "\n",
    "        # Instancia o objeto webdriver\n",
    "        driver = webdriver.Chrome(service=service)\n",
    "\n",
    "        i = 1\n",
    "\n",
    "        for i in range(1, n_pages + 1):\n",
    "\n",
    "            # Acessa o site\n",
    "            driver.get(f'https://www.magazineluiza.com.br/celulares-e-smartphones/l/te/?page={i}')\n",
    "\n",
    "            # Procurar o elemento pela TAG li\n",
    "            busca =  driver.find_elements(By.TAG_NAME, 'li')\n",
    "\n",
    "            for e in busca:\n",
    "\n",
    "                lista.append( e.text )\n",
    "\n",
    "            # Crio um dataframe com a lista \n",
    "            df = pd.DataFrame(lista)\n",
    "\n",
    "            df.columns = ['Produtos']    \n",
    "\n",
    "            # Filtro somente onde as linhas contém 'R$'\n",
    "            df = df.loc[ df['Produtos'].apply(lambda x : 'R$' in x), :   ]\n",
    "\n",
    "            # Divido por \\n que serão as colunas do meu df final\n",
    "            colunas = df['Produtos'].apply(lambda x: x.split('\\n' ))\n",
    "\n",
    "            # Separo os produtos\n",
    "            produtos = [i[0] for i in colunas]\n",
    "\n",
    "            # Separo os preços\n",
    "            tuplas_precos = colunas.apply(get_prices)\n",
    "            preco_sem_desconto = [item[0] for item in tuplas_precos]\n",
    "            preco_desconto = [item[1] for item in tuplas_precos]\n",
    "\n",
    "            # Crio o df final\n",
    "            df = pd.DataFrame( [produtos,preco_sem_desconto,preco_desconto] ).T\n",
    "\n",
    "            # Renomeio as colunas\n",
    "\n",
    "            df.columns = ['Produtos','Preço_sem_Desconto','Preço_com_Desconto']\n",
    "\n",
    "            df_result = pd.concat([df_final, df ] , axis = 0 )\n",
    "\n",
    "            i += 1\n",
    "\n",
    "        return df_result\n"
   ]
  },
  {
   "cell_type": "code",
   "execution_count": 18,
   "id": "4af0b47b",
   "metadata": {
    "ExecuteTime": {
     "end_time": "2024-01-22T19:29:31.161737Z",
     "start_time": "2024-01-22T19:27:47.561197Z"
    }
   },
   "outputs": [],
   "source": [
    "magalu = Driver.webscraping_magalu(5)"
   ]
  },
  {
   "cell_type": "code",
   "execution_count": 19,
   "id": "50e43b28",
   "metadata": {
    "ExecuteTime": {
     "end_time": "2024-01-22T19:29:35.253278Z",
     "start_time": "2024-01-22T19:29:34.126764Z"
    }
   },
   "outputs": [],
   "source": [
    "magalu.to_excel('teste_magalu.xlsx')"
   ]
  }
 ],
 "metadata": {
  "kernelspec": {
   "display_name": "Python 3 (ipykernel)",
   "language": "python",
   "name": "python3"
  },
  "language_info": {
   "codemirror_mode": {
    "name": "ipython",
    "version": 3
   },
   "file_extension": ".py",
   "mimetype": "text/x-python",
   "name": "python",
   "nbconvert_exporter": "python",
   "pygments_lexer": "ipython3",
   "version": "3.9.13"
  }
 },
 "nbformat": 4,
 "nbformat_minor": 5
}
